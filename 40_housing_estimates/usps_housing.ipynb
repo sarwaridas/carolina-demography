{
 "cells": [
  {
   "attachments": {},
   "cell_type": "markdown",
   "metadata": {},
   "source": [
    "# USPS Housing Vacancy Counts and Census Counts\n",
    "\n",
    "The United States Department of Housing and Urban Development (HUD) currently has an agreement with the United States Postal Service (USPS) to receive quarterly aggregated data on addresses identified by the USPS as having been \"Vacant\" or \"No-Stat\" in the previous quarter. Here, we attempt to compare the dataset to the housing counts in the 2020 Census.\n",
    "\n",
    "The data is protected and requires a brief application for use. For the purposes of this analysis, we selected data for the quarter ending on June 30, 2020.\n",
    "\n",
    "Before analyzing 2020 data, we are focused on comparing 2010 Census data to 2010 USPS data. Here I obtain the 2010 county-level housing counts from 2010 Census, using the Census API. \n"
   ]
  },
  {
   "cell_type": "code",
   "execution_count": 1,
   "metadata": {},
   "outputs": [],
   "source": [
    "from census import Census\n",
    "from us import states\n",
    "import pandas as pd\n",
    "\n",
    "c = Census(\"c629512146490e65d1c8ffc1dd8f3414872810b3\")\n",
    "\n",
    "\n",
    "chousing_2010 = c.pl.state_county(\n",
    "    (\n",
    "        \"NAME\",\n",
    "        \"P001001\",\n",
    "        \"H001001\",\n",
    "        \"H001002\",\n",
    "        \"H001003\",\n",
    "    ),\n",
    "    states.NC.fips,\n",
    "    \"*\",\n",
    "    year=2010,\n",
    ")\n",
    "\n",
    "# Convert to DataFrame\n",
    "chousing_2010 = pd.DataFrame(chousing_2010)\n",
    "\n",
    "#  Remove 'North Carolina' from column names\n",
    "chousing_2010[\"NAME\"] = (\n",
    "    chousing_2010[\"NAME\"]\n",
    "    .str.replace(\", North Carolina\", \"\")\n",
    ")\n",
    "\n",
    "\n",
    "# Rename variables as appropriate\n",
    "chousing_2010 = chousing_2010.rename(\n",
    "    {\n",
    "        \"NAME\": \"county_and_tra\",\n",
    "        \"P001001\": \"pop_count\",\n",
    "        \"state\": \"state_fips\",\n",
    "        \"county\": \"county_fips\",\n",
    "        \"H001001\": \"total_housing\",\n",
    "        \"H001002\": \"occ_housing\",\n",
    "        \"H001003\": \"vacant_housing\",\n",
    "    },\n",
    "    axis=1,\n",
    ")\n",
    "chousing_2010[\"full_fips\"] = chousing_2010[\"state_fips\"] + chousing_2010[\"county_fips\"]\n"
   ]
  },
  {
   "attachments": {},
   "cell_type": "markdown",
   "metadata": {},
   "source": [
    "Next, I read in the 2010 USPS Vacancy data and did some brief cleaning."
   ]
  },
  {
   "cell_type": "code",
   "execution_count": 2,
   "metadata": {},
   "outputs": [],
   "source": [
    "import geopandas as gpd\n",
    "\n",
    "gdf = gpd.read_file(\"../00_source_data/2010_vacancy_usps.dbf\")\n",
    "gdf_cols = [\n",
    "    \"GEOID\",\n",
    "    \"AMS_RES\",\n",
    "    \"RES_VAC\",\n",
    "    \"PQV_IS_RES\",\n",
    "    \"PQV_NS_RES\",\n",
    "    \"NOSTAT_RES\",\n",
    "    \"AVG_VAC_R\",\n",
    "    \"AVG_NS_RES\",\n",
    "]\n",
    "gdf = gdf[gdf_cols]\n",
    "gdf = gdf[gdf[\"GEOID\"].astype(str).str[0:2] == \"37\"]\n",
    "gdf[\"fips\"] = gdf[\"GEOID\"].astype(str).str[0:5]\n",
    "gdf = gdf.groupby(\"fips\").sum().reset_index()\n",
    "housing_2010 = pd.merge(\n",
    "    gdf,\n",
    "    chousing_2010,\n",
    "    how=\"outer\",\n",
    "    validate=\"1:1\",\n",
    "    indicator=True,\n",
    "    left_on=\"fips\",\n",
    "    right_on=\"full_fips\",\n",
    ")\n",
    "housing_2010[\"usps_occ_VNS\"] = housing_2010[\"AMS_RES\"] - housing_2010[\"RES_VAC\"] - housing_2010[\"NOSTAT_RES\"]\n",
    "housing_2010[\"usps_occ_V\"] = housing_2010[\"AMS_RES\"] - housing_2010[\"RES_VAC\"]\n",
    "housing_2010[\"usps_occ_NS\"] = housing_2010[\"AMS_RES\"] - housing_2010[\"NOSTAT_RES\"]\n",
    "housing_2010[\"perc_diff_VNS\"] = 100 * (housing_2010[\"usps_occ_VNS\"] - housing_2010[\"occ_housing\"]) / housing_2010[\"occ_housing\"]\n",
    "housing_2010[\"perc_diff_V\"] = 100 * (housing_2010[\"usps_occ_V\"] - housing_2010[\"occ_housing\"]) / housing_2010[\"occ_housing\"]\n",
    "housing_2010[\"perc_diff_NS\"] = 100 * (housing_2010[\"usps_occ_NS\"] - housing_2010[\"occ_housing\"]) / housing_2010[\"occ_housing\"]\n"
   ]
  },
  {
   "cell_type": "code",
   "execution_count": 3,
   "metadata": {},
   "outputs": [
    {
     "data": {
      "text/html": [
       "<div>\n",
       "<style scoped>\n",
       "    .dataframe tbody tr th:only-of-type {\n",
       "        vertical-align: middle;\n",
       "    }\n",
       "\n",
       "    .dataframe tbody tr th {\n",
       "        vertical-align: top;\n",
       "    }\n",
       "\n",
       "    .dataframe thead th {\n",
       "        text-align: right;\n",
       "    }\n",
       "</style>\n",
       "<table border=\"1\" class=\"dataframe\">\n",
       "  <thead>\n",
       "    <tr style=\"text-align: right;\">\n",
       "      <th></th>\n",
       "      <th>perc_diff_VNS</th>\n",
       "      <th>perc_diff_V</th>\n",
       "      <th>perc_diff_NS</th>\n",
       "    </tr>\n",
       "  </thead>\n",
       "  <tbody>\n",
       "    <tr>\n",
       "      <th>count</th>\n",
       "      <td>100.000000</td>\n",
       "      <td>100.000000</td>\n",
       "      <td>100.000000</td>\n",
       "    </tr>\n",
       "    <tr>\n",
       "      <th>mean</th>\n",
       "      <td>-5.733327</td>\n",
       "      <td>10.225516</td>\n",
       "      <td>-3.812542</td>\n",
       "    </tr>\n",
       "    <tr>\n",
       "      <th>std</th>\n",
       "      <td>10.538452</td>\n",
       "      <td>13.273003</td>\n",
       "      <td>11.305563</td>\n",
       "    </tr>\n",
       "    <tr>\n",
       "      <th>min</th>\n",
       "      <td>-43.511090</td>\n",
       "      <td>-24.420755</td>\n",
       "      <td>-43.511090</td>\n",
       "    </tr>\n",
       "    <tr>\n",
       "      <th>25%</th>\n",
       "      <td>-10.186181</td>\n",
       "      <td>5.374396</td>\n",
       "      <td>-7.928671</td>\n",
       "    </tr>\n",
       "    <tr>\n",
       "      <th>50%</th>\n",
       "      <td>-3.820156</td>\n",
       "      <td>10.027062</td>\n",
       "      <td>-1.578897</td>\n",
       "    </tr>\n",
       "    <tr>\n",
       "      <th>75%</th>\n",
       "      <td>1.850158</td>\n",
       "      <td>14.105630</td>\n",
       "      <td>4.376916</td>\n",
       "    </tr>\n",
       "    <tr>\n",
       "      <th>max</th>\n",
       "      <td>13.878418</td>\n",
       "      <td>76.601362</td>\n",
       "      <td>15.118909</td>\n",
       "    </tr>\n",
       "  </tbody>\n",
       "</table>\n",
       "</div>"
      ],
      "text/plain": [
       "       perc_diff_VNS  perc_diff_V  perc_diff_NS\n",
       "count     100.000000   100.000000    100.000000\n",
       "mean       -5.733327    10.225516     -3.812542\n",
       "std        10.538452    13.273003     11.305563\n",
       "min       -43.511090   -24.420755    -43.511090\n",
       "25%       -10.186181     5.374396     -7.928671\n",
       "50%        -3.820156    10.027062     -1.578897\n",
       "75%         1.850158    14.105630      4.376916\n",
       "max        13.878418    76.601362     15.118909"
      ]
     },
     "execution_count": 3,
     "metadata": {},
     "output_type": "execute_result"
    }
   ],
   "source": [
    "housing_2010[[\"perc_diff_VNS\", \"perc_diff_V\", \"perc_diff_NS\"]].describe()"
   ]
  },
  {
   "cell_type": "code",
   "execution_count": 4,
   "metadata": {},
   "outputs": [
    {
     "ename": "ValueError",
     "evalue": "Cannot use name of an existing column for indicator column",
     "output_type": "error",
     "traceback": [
      "\u001b[0;31m---------------------------------------------------------------------------\u001b[0m",
      "\u001b[0;31mValueError\u001b[0m                                Traceback (most recent call last)",
      "\u001b[0;32m/var/folders/zt/403bn89s3rngsx698hkqx3nr0000gn/T/ipykernel_86903/645590055.py\u001b[0m in \u001b[0;36m<module>\u001b[0;34m\u001b[0m\n\u001b[1;32m      7\u001b[0m \u001b[0mshape\u001b[0m\u001b[0;34m[\u001b[0m\u001b[0;34m\"COUNTYFP\"\u001b[0m\u001b[0;34m]\u001b[0m \u001b[0;34m=\u001b[0m \u001b[0mshape\u001b[0m\u001b[0;34m[\u001b[0m\u001b[0;34m\"COUNTYFP\"\u001b[0m\u001b[0;34m]\u001b[0m\u001b[0;34m.\u001b[0m\u001b[0mastype\u001b[0m\u001b[0;34m(\u001b[0m\u001b[0mint\u001b[0m\u001b[0;34m)\u001b[0m\u001b[0;34m\u001b[0m\u001b[0;34m\u001b[0m\u001b[0m\n\u001b[1;32m      8\u001b[0m \u001b[0mhousing_2010\u001b[0m\u001b[0;34m[\u001b[0m\u001b[0;34m\"county_fips\"\u001b[0m\u001b[0;34m]\u001b[0m \u001b[0;34m=\u001b[0m \u001b[0mhousing_2010\u001b[0m\u001b[0;34m[\u001b[0m\u001b[0;34m\"county_fips\"\u001b[0m\u001b[0;34m]\u001b[0m\u001b[0;34m.\u001b[0m\u001b[0mastype\u001b[0m\u001b[0;34m(\u001b[0m\u001b[0mint\u001b[0m\u001b[0;34m)\u001b[0m\u001b[0;34m\u001b[0m\u001b[0;34m\u001b[0m\u001b[0m\n\u001b[0;32m----> 9\u001b[0;31m vac_geo = shape.merge(\n\u001b[0m\u001b[1;32m     10\u001b[0m     \u001b[0mhousing_2010\u001b[0m\u001b[0;34m,\u001b[0m \u001b[0mhow\u001b[0m\u001b[0;34m=\u001b[0m\u001b[0;34m\"left\"\u001b[0m\u001b[0;34m,\u001b[0m \u001b[0mleft_on\u001b[0m\u001b[0;34m=\u001b[0m\u001b[0;34m\"COUNTYFP\"\u001b[0m\u001b[0;34m,\u001b[0m \u001b[0mvalidate\u001b[0m\u001b[0;34m=\u001b[0m\u001b[0;34m\"1:1\"\u001b[0m\u001b[0;34m,\u001b[0m \u001b[0mright_on\u001b[0m\u001b[0;34m=\u001b[0m\u001b[0;34m\"county_fips\"\u001b[0m\u001b[0;34m,\u001b[0m \u001b[0mindicator\u001b[0m\u001b[0;34m=\u001b[0m\u001b[0;32mTrue\u001b[0m\u001b[0;34m\u001b[0m\u001b[0;34m\u001b[0m\u001b[0m\n\u001b[1;32m     11\u001b[0m )\n",
      "\u001b[0;32m~/opt/miniconda3/envs/geo/lib/python3.9/site-packages/geopandas/geodataframe.py\u001b[0m in \u001b[0;36mmerge\u001b[0;34m(self, *args, **kwargs)\u001b[0m\n\u001b[1;32m   1376\u001b[0m \u001b[0;34m\u001b[0m\u001b[0m\n\u001b[1;32m   1377\u001b[0m         \"\"\"\n\u001b[0;32m-> 1378\u001b[0;31m         \u001b[0mresult\u001b[0m \u001b[0;34m=\u001b[0m \u001b[0mDataFrame\u001b[0m\u001b[0;34m.\u001b[0m\u001b[0mmerge\u001b[0m\u001b[0;34m(\u001b[0m\u001b[0mself\u001b[0m\u001b[0;34m,\u001b[0m \u001b[0;34m*\u001b[0m\u001b[0margs\u001b[0m\u001b[0;34m,\u001b[0m \u001b[0;34m**\u001b[0m\u001b[0mkwargs\u001b[0m\u001b[0;34m)\u001b[0m\u001b[0;34m\u001b[0m\u001b[0;34m\u001b[0m\u001b[0m\n\u001b[0m\u001b[1;32m   1379\u001b[0m         \u001b[0mgeo_col\u001b[0m \u001b[0;34m=\u001b[0m \u001b[0mself\u001b[0m\u001b[0;34m.\u001b[0m\u001b[0m_geometry_column_name\u001b[0m\u001b[0;34m\u001b[0m\u001b[0;34m\u001b[0m\u001b[0m\n\u001b[1;32m   1380\u001b[0m         \u001b[0;32mif\u001b[0m \u001b[0misinstance\u001b[0m\u001b[0;34m(\u001b[0m\u001b[0mresult\u001b[0m\u001b[0;34m,\u001b[0m \u001b[0mDataFrame\u001b[0m\u001b[0;34m)\u001b[0m \u001b[0;32mand\u001b[0m \u001b[0mgeo_col\u001b[0m \u001b[0;32min\u001b[0m \u001b[0mresult\u001b[0m\u001b[0;34m:\u001b[0m\u001b[0;34m\u001b[0m\u001b[0;34m\u001b[0m\u001b[0m\n",
      "\u001b[0;32m~/opt/miniconda3/envs/geo/lib/python3.9/site-packages/pandas/core/frame.py\u001b[0m in \u001b[0;36mmerge\u001b[0;34m(self, right, how, on, left_on, right_on, left_index, right_index, sort, suffixes, copy, indicator, validate)\u001b[0m\n\u001b[1;32m   9188\u001b[0m         \u001b[0;32mfrom\u001b[0m \u001b[0mpandas\u001b[0m\u001b[0;34m.\u001b[0m\u001b[0mcore\u001b[0m\u001b[0;34m.\u001b[0m\u001b[0mreshape\u001b[0m\u001b[0;34m.\u001b[0m\u001b[0mmerge\u001b[0m \u001b[0;32mimport\u001b[0m \u001b[0mmerge\u001b[0m\u001b[0;34m\u001b[0m\u001b[0;34m\u001b[0m\u001b[0m\n\u001b[1;32m   9189\u001b[0m \u001b[0;34m\u001b[0m\u001b[0m\n\u001b[0;32m-> 9190\u001b[0;31m         return merge(\n\u001b[0m\u001b[1;32m   9191\u001b[0m             \u001b[0mself\u001b[0m\u001b[0;34m,\u001b[0m\u001b[0;34m\u001b[0m\u001b[0;34m\u001b[0m\u001b[0m\n\u001b[1;32m   9192\u001b[0m             \u001b[0mright\u001b[0m\u001b[0;34m,\u001b[0m\u001b[0;34m\u001b[0m\u001b[0;34m\u001b[0m\u001b[0m\n",
      "\u001b[0;32m~/opt/miniconda3/envs/geo/lib/python3.9/site-packages/pandas/core/reshape/merge.py\u001b[0m in \u001b[0;36mmerge\u001b[0;34m(left, right, how, on, left_on, right_on, left_index, right_index, sort, suffixes, copy, indicator, validate)\u001b[0m\n\u001b[1;32m    119\u001b[0m         \u001b[0mvalidate\u001b[0m\u001b[0;34m=\u001b[0m\u001b[0mvalidate\u001b[0m\u001b[0;34m,\u001b[0m\u001b[0;34m\u001b[0m\u001b[0;34m\u001b[0m\u001b[0m\n\u001b[1;32m    120\u001b[0m     )\n\u001b[0;32m--> 121\u001b[0;31m     \u001b[0;32mreturn\u001b[0m \u001b[0mop\u001b[0m\u001b[0;34m.\u001b[0m\u001b[0mget_result\u001b[0m\u001b[0;34m(\u001b[0m\u001b[0;34m)\u001b[0m\u001b[0;34m\u001b[0m\u001b[0;34m\u001b[0m\u001b[0m\n\u001b[0m\u001b[1;32m    122\u001b[0m \u001b[0;34m\u001b[0m\u001b[0m\n\u001b[1;32m    123\u001b[0m \u001b[0;34m\u001b[0m\u001b[0m\n",
      "\u001b[0;32m~/opt/miniconda3/envs/geo/lib/python3.9/site-packages/pandas/core/reshape/merge.py\u001b[0m in \u001b[0;36mget_result\u001b[0;34m(self)\u001b[0m\n\u001b[1;32m    711\u001b[0m     \u001b[0;32mdef\u001b[0m \u001b[0mget_result\u001b[0m\u001b[0;34m(\u001b[0m\u001b[0mself\u001b[0m\u001b[0;34m)\u001b[0m \u001b[0;34m->\u001b[0m \u001b[0mDataFrame\u001b[0m\u001b[0;34m:\u001b[0m\u001b[0;34m\u001b[0m\u001b[0;34m\u001b[0m\u001b[0m\n\u001b[1;32m    712\u001b[0m         \u001b[0;32mif\u001b[0m \u001b[0mself\u001b[0m\u001b[0;34m.\u001b[0m\u001b[0mindicator\u001b[0m\u001b[0;34m:\u001b[0m\u001b[0;34m\u001b[0m\u001b[0;34m\u001b[0m\u001b[0m\n\u001b[0;32m--> 713\u001b[0;31m             \u001b[0mself\u001b[0m\u001b[0;34m.\u001b[0m\u001b[0mleft\u001b[0m\u001b[0;34m,\u001b[0m \u001b[0mself\u001b[0m\u001b[0;34m.\u001b[0m\u001b[0mright\u001b[0m \u001b[0;34m=\u001b[0m \u001b[0mself\u001b[0m\u001b[0;34m.\u001b[0m\u001b[0m_indicator_pre_merge\u001b[0m\u001b[0;34m(\u001b[0m\u001b[0mself\u001b[0m\u001b[0;34m.\u001b[0m\u001b[0mleft\u001b[0m\u001b[0;34m,\u001b[0m \u001b[0mself\u001b[0m\u001b[0;34m.\u001b[0m\u001b[0mright\u001b[0m\u001b[0;34m)\u001b[0m\u001b[0;34m\u001b[0m\u001b[0;34m\u001b[0m\u001b[0m\n\u001b[0m\u001b[1;32m    714\u001b[0m \u001b[0;34m\u001b[0m\u001b[0m\n\u001b[1;32m    715\u001b[0m         \u001b[0mjoin_index\u001b[0m\u001b[0;34m,\u001b[0m \u001b[0mleft_indexer\u001b[0m\u001b[0;34m,\u001b[0m \u001b[0mright_indexer\u001b[0m \u001b[0;34m=\u001b[0m \u001b[0mself\u001b[0m\u001b[0;34m.\u001b[0m\u001b[0m_get_join_info\u001b[0m\u001b[0;34m(\u001b[0m\u001b[0;34m)\u001b[0m\u001b[0;34m\u001b[0m\u001b[0;34m\u001b[0m\u001b[0m\n",
      "\u001b[0;32m~/opt/miniconda3/envs/geo/lib/python3.9/site-packages/pandas/core/reshape/merge.py\u001b[0m in \u001b[0;36m_indicator_pre_merge\u001b[0;34m(self, left, right)\u001b[0m\n\u001b[1;32m    762\u001b[0m                 )\n\u001b[1;32m    763\u001b[0m         \u001b[0;32mif\u001b[0m \u001b[0mself\u001b[0m\u001b[0;34m.\u001b[0m\u001b[0mindicator_name\u001b[0m \u001b[0;32min\u001b[0m \u001b[0mcolumns\u001b[0m\u001b[0;34m:\u001b[0m\u001b[0;34m\u001b[0m\u001b[0;34m\u001b[0m\u001b[0m\n\u001b[0;32m--> 764\u001b[0;31m             raise ValueError(\n\u001b[0m\u001b[1;32m    765\u001b[0m                 \u001b[0;34m\"Cannot use name of an existing column for indicator column\"\u001b[0m\u001b[0;34m\u001b[0m\u001b[0;34m\u001b[0m\u001b[0m\n\u001b[1;32m    766\u001b[0m             )\n",
      "\u001b[0;31mValueError\u001b[0m: Cannot use name of an existing column for indicator column"
     ]
    }
   ],
   "source": [
    "# read in shapefile\n",
    "shape = gpd.read_file(\"../00_source_data/cb_2018_us_county_20m\")\n",
    "# limit to NC\n",
    "shape = shape[shape[\"STATEFP\"] == \"37\"]\n",
    "shape = shape[[\"COUNTYFP\", \"geometry\"]]\n",
    "# merge w/ vacancy/counts\n",
    "shape[\"COUNTYFP\"] = shape[\"COUNTYFP\"].astype(int)\n",
    "housing_2010[\"county_fips\"] = housing_2010[\"county_fips\"].astype(int)\n",
    "vac_geo = shape.merge(\n",
    "    housing_2010, how=\"left\", left_on=\"COUNTYFP\", validate=\"1:1\", right_on=\"county_fips\", indicator=True\n",
    ")"
   ]
  },
  {
   "cell_type": "code",
   "execution_count": null,
   "metadata": {},
   "outputs": [],
   "source": [
    "import geopandas as gpd\n",
    "import pandas as pd\n",
    "from census import Census\n",
    "from us import states\n",
    "import matplotlib.pyplot as plt\n",
    "\n",
    "# import vacancy and population\n",
    "gdf = gpd.read_file(\"../00_source_data/usps_vac_062020_tractsum_2kx.dbf\")\n",
    "counts = pd.read_csv(\"../00_source_data/2020_counts_NC.csv\")\n",
    "# subset to relevant cols\n",
    "gdf_cols = [\n",
    "    \"geoid\",\n",
    "    \"ams_res\",\n",
    "    \"res_vac\",\n",
    "    \"pqv_is_res\",\n",
    "    \"pqv_ns_res\",\n",
    "    \"nostat_res\",\n",
    "    \"avg_vac_r\",\n",
    "    \"avg_ns_res\",\n",
    "]\n",
    "counts_cols = [\n",
    "    \"county\",\n",
    "    \"total_housing\",\n",
    "    \"occ_housing\",\n",
    "    \"unocc_housing\",\n",
    "    \"county_fips\",\n",
    "]\n",
    "gdf = gdf[gdf_cols]\n",
    "counts = counts[counts_cols]\n"
   ]
  },
  {
   "cell_type": "code",
   "execution_count": null,
   "metadata": {},
   "outputs": [
    {
     "data": {
      "text/html": [
       "<div>\n",
       "<style scoped>\n",
       "    .dataframe tbody tr th:only-of-type {\n",
       "        vertical-align: middle;\n",
       "    }\n",
       "\n",
       "    .dataframe tbody tr th {\n",
       "        vertical-align: top;\n",
       "    }\n",
       "\n",
       "    .dataframe thead th {\n",
       "        text-align: right;\n",
       "    }\n",
       "</style>\n",
       "<table border=\"1\" class=\"dataframe\">\n",
       "  <thead>\n",
       "    <tr style=\"text-align: right;\">\n",
       "      <th></th>\n",
       "      <th>county</th>\n",
       "      <th>total_housing</th>\n",
       "      <th>occ_housing</th>\n",
       "      <th>unocc_housing</th>\n",
       "      <th>county_fips</th>\n",
       "    </tr>\n",
       "  </thead>\n",
       "  <tbody>\n",
       "    <tr>\n",
       "      <th>0</th>\n",
       "      <td>Anson County</td>\n",
       "      <td>9834.0</td>\n",
       "      <td>8554.0</td>\n",
       "      <td>1280.0</td>\n",
       "      <td>7</td>\n",
       "    </tr>\n",
       "    <tr>\n",
       "      <th>1</th>\n",
       "      <td>Beaufort County</td>\n",
       "      <td>24090.0</td>\n",
       "      <td>19430.0</td>\n",
       "      <td>4660.0</td>\n",
       "      <td>13</td>\n",
       "    </tr>\n",
       "    <tr>\n",
       "      <th>2</th>\n",
       "      <td>Brunswick County</td>\n",
       "      <td>88330.0</td>\n",
       "      <td>61496.0</td>\n",
       "      <td>26834.0</td>\n",
       "      <td>19</td>\n",
       "    </tr>\n",
       "    <tr>\n",
       "      <th>3</th>\n",
       "      <td>Cabarrus County</td>\n",
       "      <td>87410.0</td>\n",
       "      <td>82596.0</td>\n",
       "      <td>4814.0</td>\n",
       "      <td>25</td>\n",
       "    </tr>\n",
       "    <tr>\n",
       "      <th>4</th>\n",
       "      <td>Carteret County</td>\n",
       "      <td>50846.0</td>\n",
       "      <td>30112.0</td>\n",
       "      <td>20734.0</td>\n",
       "      <td>31</td>\n",
       "    </tr>\n",
       "  </tbody>\n",
       "</table>\n",
       "</div>"
      ],
      "text/plain": [
       "             county  total_housing  occ_housing  unocc_housing  county_fips\n",
       "0      Anson County         9834.0       8554.0         1280.0            7\n",
       "1   Beaufort County        24090.0      19430.0         4660.0           13\n",
       "2  Brunswick County        88330.0      61496.0        26834.0           19\n",
       "3   Cabarrus County        87410.0      82596.0         4814.0           25\n",
       "4   Carteret County        50846.0      30112.0        20734.0           31"
      ]
     },
     "execution_count": 4,
     "metadata": {},
     "output_type": "execute_result"
    }
   ],
   "source": [
    "counts.head()"
   ]
  },
  {
   "cell_type": "code",
   "execution_count": null,
   "metadata": {},
   "outputs": [],
   "source": [
    "# extract state and county fips\n",
    "gdf[\"statefips\"] = gdf[\"geoid\"].astype(str).str[0:2]\n",
    "gdf[\"countyfips\"] = gdf[\"geoid\"].astype(str).str[2:5].astype(int)\n",
    "# limit to north carolina\n",
    "gdf = gdf[gdf[\"statefips\"] == \"37\"]\n",
    "# aggregate to county level (by summing)\n",
    "gdf = gdf.groupby([\"countyfips\"]).sum().reset_index()\n",
    "# merge datasets\n",
    "merged = counts.merge(gdf, left_on=\"county_fips\", right_on=\"countyfips\", validate=\"1:1\").drop([\"countyfips\"], axis=1)\n"
   ]
  },
  {
   "cell_type": "code",
   "execution_count": null,
   "metadata": {},
   "outputs": [],
   "source": [
    "# read in shapefile\n",
    "shape = gpd.read_file(\"../00_source_data/cb_2018_us_county_20m\")\n",
    "# limit to NC\n",
    "shape = shape[shape[\"STATEFP\"] == \"37\"]\n",
    "shape = shape[[\"COUNTYFP\", \"geometry\"]]\n",
    "# merge w/ vacancy/counts\n",
    "shape[\"COUNTYFP\"] = shape[\"COUNTYFP\"].astype(int)\n",
    "vac_geo = shape.merge(\n",
    "    merged, how=\"left\", left_on=\"COUNTYFP\", validate=\"1:1\", right_on=\"county_fips\", indicator=True\n",
    ")\n"
   ]
  },
  {
   "cell_type": "code",
   "execution_count": null,
   "metadata": {},
   "outputs": [
    {
     "data": {
      "text/plain": [
       "COUNTYFP            int64\n",
       "geometry         geometry\n",
       "county             object\n",
       "total_housing     float64\n",
       "occ_housing       float64\n",
       "unocc_housing     float64\n",
       "county_fips         int64\n",
       "ams_res             int64\n",
       "res_vac             int64\n",
       "pqv_is_res          int64\n",
       "pqv_ns_res          int64\n",
       "nostat_res          int64\n",
       "avg_vac_r         float64\n",
       "avg_ns_res        float64\n",
       "_merge           category\n",
       "dtype: object"
      ]
     },
     "execution_count": 7,
     "metadata": {},
     "output_type": "execute_result"
    }
   ],
   "source": [
    "vac_geo.dtypes"
   ]
  },
  {
   "cell_type": "code",
   "execution_count": null,
   "metadata": {},
   "outputs": [],
   "source": [
    "# create variables\n",
    "# USPS estimate of occupied housing\n",
    "vac_geo[\"housing_usps\"] = (\n",
    "    vac_geo[\"ams_res\"] - vac_geo[\"nostat_res\"] - vac_geo[\"res_vac\"]\n",
    ")\n",
    "# % diff between Census and USPS\n",
    "vac_geo[\"perc_diff\"] = (\n",
    "    100 * (vac_geo[\"occ_housing\"] - vac_geo[\"housing_usps\"]) / vac_geo[\"housing_usps\"]\n",
    ")\n",
    "# % of total housing units coming back on\n",
    "vac_geo[\"perc_back\"] = 100*vac_geo[\"pqv_is_res\"] / vac_geo[\"ams_res\"]"
   ]
  },
  {
   "cell_type": "code",
   "execution_count": null,
   "metadata": {},
   "outputs": [
    {
     "data": {
      "image/png": "[encoded data removed]",
      "text/plain": [
       "<Figure size 720x1440 with 2 Axes>"
      ]
     },
     "metadata": {
      "needs_background": "light"
     },
     "output_type": "display_data"
    },
    {
     "data": {
      "text/plain": [
       "<Figure size 432x288 with 0 Axes>"
      ]
     },
     "metadata": {},
     "output_type": "display_data"
    }
   ],
   "source": [
    "fig, ax = plt.subplots(1, 1, figsize=(10, 20))\n",
    "vac_geo.plot(\n",
    "    column=\"perc_diff\",\n",
    "    cmap=\"Blues\",\n",
    "    legend=True,\n",
    "    legend_kwds={\"shrink\": 0.15, \"label\": \"Percent Difference\"},\n",
    "    missing_kwds={\n",
    "        \"color\": \"grey\",\n",
    "        \"label\": \"Missing values\",\n",
    "    },\n",
    "    alpha=0.8,\n",
    "    edgecolor=\"#808080\",\n",
    "    linewidth=0.6,\n",
    "    ax=ax,\n",
    ")\n",
    "ax.set_axis_off()\n",
    "ax.set_title(label=\"Comparing USPS Occupiced Residences to Census Counts\", size=15)\n",
    "plt.show()\n",
    "plt.savefig(\"USPS.png\", bbox_inches=\"tight\", dpi=400)"
   ]
  }
 ],
 "metadata": {
  "kernelspec": {
   "display_name": "base",
   "language": "python",
   "name": "python3"
  },
  "language_info": {
   "codemirror_mode": {
    "name": "ipython",
    "version": 3
   },
   "file_extension": ".py",
   "mimetype": "text/x-python",
   "name": "python",
   "nbconvert_exporter": "python",
   "pygments_lexer": "ipython3",
   "version": "3.9.7"
  },
  "orig_nbformat": 4,
  "vscode": {
   "interpreter": {
    "hash": "84b1e2213175d1b29c0c106fcfdfa2350458511224f0b9c320f712c5e7a09711"
   }
  }
 },
 "nbformat": 4,
 "nbformat_minor": 2
}
