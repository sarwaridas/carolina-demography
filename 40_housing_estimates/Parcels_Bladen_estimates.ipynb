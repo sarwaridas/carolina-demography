{
    "cells": [
        {
            "cell_type": "markdown",
            "metadata": {},
            "source": [
                "1. Keeping only residential units?\n",
                "2. 'within' while merging or 'intersects'?\n",
                "3. counting only residential units or all?"
            ]
        },
        {
            "cell_type": "code",
            "execution_count": 1,
            "metadata": {},
            "outputs": [
                {
                    "data": {
                        "text/plain": [
                            "Index(['STATEFP', 'COUNTYFP', 'TRACTCE', 'GEOID', 'NAME', 'NAMELSAD', 'MTFCC',\n",
                            "       'FUNCSTAT', 'ALAND', 'AWATER', 'INTPTLAT', 'INTPTLON', 'geometry'],\n",
                            "      dtype='object')"
                        ]
                    },
                    "execution_count": 1,
                    "metadata": {},
                    "output_type": "execute_result"
                }
            ],
            "source": [
                "import pandas as pd\n",
                "import numpy as np\n",
                "import geopandas as gpd\n",
                "\n",
                "parcels = gpd.read_file(\"../00_source_data/bladen-parcels\")\n",
                "tracts_demo= gpd.read_file(\"../00_source_data/2020_counts_NC_tract.csv\")\n",
                "tracts_boundaries= gpd.read_file(\"../00_source_data/tract_polygons/tl_2020_37_tract.shp\")\n",
                "tracts_boundaries=tracts_boundaries[tracts_boundaries.COUNTYFP==\"017\"]\n",
                "tracts_boundaries.columns\n",
                "##data dict: https://www.arcgis.com/sharing/rest/content/items/4b5f3f5c54b14339b81d8ff1a841dc2e/info/metadata/metadata.xml?format=default&output=html"
            ]
        },
        {
            "cell_type": "code",
            "execution_count": 2,
            "metadata": {},
            "outputs": [],
            "source": [
                "col_names = {\n",
                "    \"ALTPARNO\": \"Alternate Parcel Number\",\n",
                "    \"CNTYFIPS\": \"County FIPS Code\",\n",
                "    \"CNTYNAME\": \"County Name\",\n",
                "    \"GISACRES\": \"GIS Acres\",\n",
                "    \"GNISID\": \"GNIS Identifier\",\n",
                "    \"IMPROVVAL\": \"Improved Value\",\n",
                "    \"LANDVAL\": \"Land Value\",\n",
                "    \"LEGDECFULL\": \"Full Legal Description\",\n",
                "    \"MAILADD\": \"Full Mailing Address\",\n",
                "    \"MAPREF\": \"Map Reference\",\n",
                "    \"MULTISTRUC\": \"Multiple Structures\",\n",
                "    \"NPARNO\": \"National Parcel Number\",\n",
                "    \"OWNNAME\": \"Owner Name\",\n",
                "    \"PARNO\": \"Parcel ID\",\n",
                "    \"OWNTYPE\": \"Owner Type\",\n",
                "    \"PARUSECODE\": \"Parcel Use Code\",\n",
                "    \"PARUSECD2\": \"Structure Use Code\",\n",
                "    \"PARUSEDESC\": \"Parcel Use Description\",\n",
                "    \"PARUSEDSC2\": \"Secondary Parcel Use Description\",\n",
                "    \"PARVAL\": \"Total Parcel Value\",\n",
                "    \"PRESENTVAL\": \"Present Use Value\",\n",
                "    \"RECAREANO\": \"Land Area\",\n",
                "    \"SADDSTR\": \"Site Address Street Name\",\n",
                "    \"SALEDATETX\": \"Last Sale Date\",\n",
                "    \"SITEADD\": \"Full Site Address\",\n",
                "    \"SOURCEDATX\": \"Source Document Date\",\n",
                "    \"SOURCEREF\": \"Source Document\",\n",
                "    \"STRUCT\": \"Structure or Improvment\",\n",
                "    \"TRANSFDATE\": \"Transformation Date\",\n",
                "}\n",
                "drop_cols = [\n",
                "    \"MADDPREF\",\n",
                "    \"MADDRNO\",\n",
                "    \"MADDSTNAME\",\n",
                "    \"MADDSTR\",\n",
                "    \"MADDSTSUF\",\n",
                "    \"MADDSTTYP\",\n",
                "    \"MCITY\",\n",
                "    \"MSTATE\",\n",
                "    \"MZIP\",\n",
                "    \"MUNIT\",\n",
                "    \"OWNFRST\",\n",
                "    \"OWNLAST\",\n",
                "    \"OWNNAME2\",\n",
                "    \"PARVALTYPE\",\n",
                "    \"REVDATETX\",\n",
                "    \"REVISEDATE\",\n",
                "    \"REVISEYEAR\",\n",
                "    \"SADDNO\",\n",
                "    \"SADDPREF\",\n",
                "    \"SADDSTNAME\",\n",
                "    \"SADDSTSUF\",\n",
                "    \"SADDSTTYP\",\n",
                "    \"SALEDATE\",\n",
                "    \"SCITY\",\n",
                "    \"SOURCEAGNT\",\n",
                "    \"SOURCEDATE\",\n",
                "    \"SSTATE\",\n",
                "    \"STCNTYFIPS\",\n",
                "    \"STFIPS\",\n",
                "    \"STNAME\",\n",
                "    \"STRUCTNO\",\n",
                "    \"STRUCTYEAR\",\n",
                "    \"SUBDIVISIO\",\n",
                "    \"SUBOWNTYPE\",\n",
                "    \"SUBSURFOWN\",\n",
                "    \"SUNIT\",\n",
                "    \"SZIP\",\n",
                "]\n",
                "parcels = parcels.rename(col_names, axis=1)\n",
                "parcels = parcels.drop(drop_cols, axis=1)\n",
                "#keeping residential parcels\n",
                "# parcels = parcels[parcels[\"Parcel Use Description\"].isin([\"RESIDENTIAL IMPROVED\"])] "
            ]
        },
        {
            "cell_type": "code",
            "execution_count": 3,
            "metadata": {},
            "outputs": [
                {
                    "data": {
                        "text/plain": [
                            "<Geographic 2D CRS: EPSG:4269>\n",
                            "Name: NAD83\n",
                            "Axis Info [ellipsoidal]:\n",
                            "- Lat[north]: Geodetic latitude (degree)\n",
                            "- Lon[east]: Geodetic longitude (degree)\n",
                            "Area of Use:\n",
                            "- name: North America - onshore and offshore: Canada - Alberta; British Columbia; Manitoba; New Brunswick; Newfoundland and Labrador; Northwest Territories; Nova Scotia; Nunavut; Ontario; Prince Edward Island; Quebec; Saskatchewan; Yukon. Puerto Rico. United States (USA) - Alabama; Alaska; Arizona; Arkansas; California; Colorado; Connecticut; Delaware; Florida; Georgia; Hawaii; Idaho; Illinois; Indiana; Iowa; Kansas; Kentucky; Louisiana; Maine; Maryland; Massachusetts; Michigan; Minnesota; Mississippi; Missouri; Montana; Nebraska; Nevada; New Hampshire; New Jersey; New Mexico; New York; North Carolina; North Dakota; Ohio; Oklahoma; Oregon; Pennsylvania; Rhode Island; South Carolina; South Dakota; Tennessee; Texas; Utah; Vermont; Virginia; Washington; West Virginia; Wisconsin; Wyoming. US Virgin Islands. British Virgin Islands.\n",
                            "- bounds: (167.65, 14.92, -47.74, 86.46)\n",
                            "Datum: North American Datum 1983\n",
                            "- Ellipsoid: GRS 1980\n",
                            "- Prime Meridian: Greenwich"
                        ]
                    },
                    "execution_count": 3,
                    "metadata": {},
                    "output_type": "execute_result"
                }
            ],
            "source": [
                "#checking geometry details\n",
                "tracts_boundaries.crs"
            ]
        },
        {
            "cell_type": "code",
            "execution_count": 4,
            "metadata": {},
            "outputs": [
                {
                    "data": {
                        "text/plain": [
                            "<Projected CRS: PROJCS[\"NAD83 / North Carolina (ftUS)\",GEOGCS[\"NAD ...>\n",
                            "Name: NAD83 / North Carolina (ftUS)\n",
                            "Axis Info [cartesian]:\n",
                            "- [east]: Easting (US survey foot)\n",
                            "- [north]: Northing (US survey foot)\n",
                            "Area of Use:\n",
                            "- undefined\n",
                            "Coordinate Operation:\n",
                            "- name: unnamed\n",
                            "- method: Lambert Conic Conformal (2SP)\n",
                            "Datum: North American Datum 1983\n",
                            "- Ellipsoid: GRS 1980\n",
                            "- Prime Meridian: Greenwich"
                        ]
                    },
                    "execution_count": 4,
                    "metadata": {},
                    "output_type": "execute_result"
                }
            ],
            "source": [
                "#checking geometry details\n",
                "parcels.crs\n",
                "##crs for the two datasets don't match up"
            ]
        },
        {
            "cell_type": "code",
            "execution_count": 5,
            "metadata": {},
            "outputs": [
                {
                    "name": "stderr",
                    "output_type": "stream",
                    "text": [
                        "/Users/rachelrichards/opt/miniconda3/envs/geo/lib/python3.9/site-packages/IPython/core/interactiveshell.py:3364: FutureWarning: The `op` parameter is deprecated and will be removed in a future release. Please use the `predicate` parameter instead.\n",
                        "  if (await self.run_code(code, result,  async_=asy)):\n"
                    ]
                },
                {
                    "name": "stdout",
                    "output_type": "stream",
                    "text": [
                        "There are 33146 parcels and 11 tracts in Bladen County\n"
                    ]
                }
            ],
            "source": [
                "parcels = parcels.to_crs(epsg=4269) #making datasets compatible for merging\n",
                "## merging parcel points with polygons\n",
                "parcel_shapes= gpd.sjoin(parcels, tracts_boundaries, op='within') \n",
                "print(f\"There are {parcel_shapes.shape[0]} parcels and {parcel_shapes.GEOID.nunique()} tracts in Bladen County\")"
            ]
        },
        {
            "cell_type": "code",
            "execution_count": 6,
            "metadata": {},
            "outputs": [],
            "source": [
                "#creating merged dataset for estimates\n",
                "est_df=parcel_shapes.merge(tracts_demo, left_on= \"GEOID\",right_on=\"full_fips\", how=\"left\")\n",
                "est_df.head()"
            ]
        },
        {
            "cell_type": "code",
            "execution_count": null,
            "metadata": {},
            "outputs": [
                {
                    "data": {
                        "text/plain": [
                            "SINGLE FAMILY DWELLING       8956\n",
                            "MOBILE HOME (REAL)           1483\n",
                            "CHURCH                        203\n",
                            "RETAIL STORE                  190\n",
                            "OFFICE                        116\n",
                            "WAREHOUSE                      73\n",
                            "APARTMENT TOWNHOUSE            68\n",
                            "SERVICE GARAGE                 47\n",
                            "CONDOMINIUM                    45\n",
                            "COMMUNITY RECREATION BUIL      33\n",
                            "APARTMENT FLAT                 28\n",
                            "INDUSTRIAL BUILDING - LIG      27\n",
                            "DUPLEX/TRIPLEX                 24\n",
                            "CLASSROOM BUILDING             22\n",
                            "MOTEL                          22\n",
                            "CONVENIENCE STORE              21\n",
                            "RESTAURANT                     21\n",
                            "MEDICAL OFFICE                 21\n",
                            "FIRE/RESCUE STATION            21\n",
                            "SHOP                           20\n",
                            "BEAUTY/BARBER SHOP             15\n",
                            "BANK                           12\n",
                            "LODGE                          10\n",
                            "GOVERNMENT BUILDING             9\n",
                            "SERVICE STATION                 8\n",
                            "COMMUNITY SERVICE BUILDIN       8\n",
                            "DAY CARE CENTER (NURSERY)       8\n",
                            "FUNERAL HOME                    8\n",
                            "FAST FOOD RESTAURANT            7\n",
                            "LAUNDROMAT                      7\n",
                            "CAR WASH (DRIVE-THRU)           7\n",
                            "SHOPPING CENTER                 6\n",
                            "COLD STORAGE                    5\n",
                            "CONVALESCENT HOME               5\n",
                            "SUPERMARKET                     5\n",
                            "RETIREMENT HOME                 4\n",
                            "HANGAR                          4\n",
                            "BROADCASTING FACILITY           3\n",
                            "LIBRARY                         3\n",
                            "MISC.BLDG (SPECIAL RATED)       3\n",
                            "PAVILION                        3\n",
                            "GYMNASIUM                       3\n",
                            "AUDITORIUM                      3\n",
                            "AUTO DEALERSHIP - SHOWROO       2\n",
                            "DISCOUNT STORE                  2\n",
                            "MINI-WAREHOUSE                  2\n",
                            "HOSPITAL                        1\n",
                            "ARMORY                          1\n",
                            "INDUSTRIAL - HEAVY              1\n",
                            "COUNTRY CLUB HOUSE              1\n",
                            "MINI-LUBE GARAGE                1\n",
                            "FELLOWSHIP HALL                 1\n",
                            "AUTO DEALERSHIP - SERVICE       1\n",
                            "CAFETERIA                       1\n",
                            "BATH HOUSE                      1\n",
                            "Name: Secondary Parcel Use Description, dtype: int64"
                        ]
                    },
                    "execution_count": 7,
                    "metadata": {},
                    "output_type": "execute_result"
                }
            ],
            "source": [
                "est_df[\"Secondary Parcel Use Description\"].value_counts()"
            ]
        },
        {
            "cell_type": "code",
            "execution_count": null,
            "metadata": {},
            "outputs": [
                {
                    "data": {
                        "text/html": [
                            "<div>\n",
                            "<style scoped>\n",
                            "    .dataframe tbody tr th:only-of-type {\n",
                            "        vertical-align: middle;\n",
                            "    }\n",
                            "\n",
                            "    .dataframe tbody tr th {\n",
                            "        vertical-align: top;\n",
                            "    }\n",
                            "\n",
                            "    .dataframe thead th {\n",
                            "        text-align: right;\n",
                            "    }\n",
                            "</style>\n",
                            "<table border=\"1\" class=\"dataframe\">\n",
                            "  <thead>\n",
                            "    <tr style=\"text-align: right;\">\n",
                            "      <th></th>\n",
                            "      <th>full_fips</th>\n",
                            "      <th>total_housing</th>\n",
                            "      <th>housing_est</th>\n",
                            "      <th>diff</th>\n",
                            "    </tr>\n",
                            "  </thead>\n",
                            "  <tbody>\n",
                            "    <tr>\n",
                            "      <th>0</th>\n",
                            "      <td>37017950302</td>\n",
                            "      <td>1505.0</td>\n",
                            "      <td>965</td>\n",
                            "      <td>-35.880399</td>\n",
                            "    </tr>\n",
                            "    <tr>\n",
                            "      <th>1</th>\n",
                            "      <td>37017950200</td>\n",
                            "      <td>1279.0</td>\n",
                            "      <td>817</td>\n",
                            "      <td>-36.121970</td>\n",
                            "    </tr>\n",
                            "    <tr>\n",
                            "      <th>2</th>\n",
                            "      <td>37017950101</td>\n",
                            "      <td>1074.0</td>\n",
                            "      <td>767</td>\n",
                            "      <td>-28.584730</td>\n",
                            "    </tr>\n",
                            "    <tr>\n",
                            "      <th>3</th>\n",
                            "      <td>37017950102</td>\n",
                            "      <td>2152.0</td>\n",
                            "      <td>1421</td>\n",
                            "      <td>-33.968401</td>\n",
                            "    </tr>\n",
                            "    <tr>\n",
                            "      <th>4</th>\n",
                            "      <td>37017950301</td>\n",
                            "      <td>1118.0</td>\n",
                            "      <td>674</td>\n",
                            "      <td>-39.713775</td>\n",
                            "    </tr>\n",
                            "    <tr>\n",
                            "      <th>5</th>\n",
                            "      <td>37017950401</td>\n",
                            "      <td>1732.0</td>\n",
                            "      <td>1338</td>\n",
                            "      <td>-22.748268</td>\n",
                            "    </tr>\n",
                            "    <tr>\n",
                            "      <th>6</th>\n",
                            "      <td>37017950402</td>\n",
                            "      <td>909.0</td>\n",
                            "      <td>653</td>\n",
                            "      <td>-28.162816</td>\n",
                            "    </tr>\n",
                            "    <tr>\n",
                            "      <th>7</th>\n",
                            "      <td>37017950501</td>\n",
                            "      <td>1092.0</td>\n",
                            "      <td>812</td>\n",
                            "      <td>-25.641026</td>\n",
                            "    </tr>\n",
                            "    <tr>\n",
                            "      <th>8</th>\n",
                            "      <td>37017950601</td>\n",
                            "      <td>1410.0</td>\n",
                            "      <td>1088</td>\n",
                            "      <td>-22.836879</td>\n",
                            "    </tr>\n",
                            "    <tr>\n",
                            "      <th>9</th>\n",
                            "      <td>37017950502</td>\n",
                            "      <td>1686.0</td>\n",
                            "      <td>1205</td>\n",
                            "      <td>-28.529063</td>\n",
                            "    </tr>\n",
                            "    <tr>\n",
                            "      <th>10</th>\n",
                            "      <td>37017950602</td>\n",
                            "      <td>1174.0</td>\n",
                            "      <td>860</td>\n",
                            "      <td>-26.746167</td>\n",
                            "    </tr>\n",
                            "  </tbody>\n",
                            "</table>\n",
                            "</div>"
                        ],
                        "text/plain": [
                            "      full_fips  total_housing  housing_est       diff\n",
                            "0   37017950302         1505.0          965 -35.880399\n",
                            "1   37017950200         1279.0          817 -36.121970\n",
                            "2   37017950101         1074.0          767 -28.584730\n",
                            "3   37017950102         2152.0         1421 -33.968401\n",
                            "4   37017950301         1118.0          674 -39.713775\n",
                            "5   37017950401         1732.0         1338 -22.748268\n",
                            "6   37017950402          909.0          653 -28.162816\n",
                            "7   37017950501         1092.0          812 -25.641026\n",
                            "8   37017950601         1410.0         1088 -22.836879\n",
                            "9   37017950502         1686.0         1205 -28.529063\n",
                            "10  37017950602         1174.0          860 -26.746167"
                        ]
                    },
                    "execution_count": 41,
                    "metadata": {},
                    "output_type": "execute_result"
                }
            ],
            "source": [
                "##Generating estimates for a single tract. refer to dictionary to see how units were counted\n",
                "est_dict={'SINGLE FAMILY DWELLING':1, 'MOBILE HOME (REAL)':1, 'APARTMENT TOWNHOUSE':1, 'APARTMENT FLAT ':1,'DUPLEX/TRIPLEX':2,'CONDOMINIUM':1} ##dictionary to count housing units\n",
                "est_df['housing_est']= [est_dict[x] if x in est_dict.keys() else 0 for x in est_df[\"Secondary Parcel Use Description\"]] #replacing values with dictionary mappings\n",
                "#grouping by tract\n",
                "perc_diff_df= pd.DataFrame(est_df[[\"full_fips\",\"total_housing\"]].groupby(\"full_fips\", sort=False)[\"total_housing\"].unique()).reset_index()\n",
                "perc_diff_df2=pd.DataFrame(est_df[[\"full_fips\",\"housing_est\"]].groupby(\"full_fips\", sort=False)[\"housing_est\"].sum()).reset_index()\n",
                "#calculating percentage difference\n",
                "perc_diff_df['total_housing']=[float(x[0]) for x in perc_diff_df['total_housing']]\n",
                "perc_diff_df=perc_diff_df.merge(perc_diff_df2)\n",
                "perc_diff_df['diff']= ((perc_diff_df[\"housing_est\"] - perc_diff_df[\"total_housing\"])/perc_diff_df[\"total_housing\"])*100\n",
                "perc_diff_df"
            ]
        }
    ],
    "metadata": {
        "interpreter": {
            "hash": "d2f3028922bc3e75bc69374860f1f6a028ceea00467bd3777a9573eaf7ee479e"
        },
        "kernelspec": {
            "display_name": "Python 3.9.7 64-bit ('geo': conda)",
            "name": "python3"
        },
        "language_info": {
            "codemirror_mode": {
                "name": "ipython",
                "version": 3
            },
            "file_extension": ".py",
            "mimetype": "text/x-python",
            "name": "python",
            "nbconvert_exporter": "python",
            "pygments_lexer": "ipython3",
            "version": "3.9.7"
        },
        "orig_nbformat": 4
    },
    "nbformat": 4,
    "nbformat_minor": 2
}
